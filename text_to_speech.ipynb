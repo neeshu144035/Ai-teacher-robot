{
 "cells": [
  {
   "cell_type": "code",
   "execution_count": 6,
   "id": "b3d72fb5",
   "metadata": {},
   "outputs": [],
   "source": [
    "from gtts import gTTS\n",
    "\n",
    "tts=gTTS(text=\"Kerala saarr , 100% litracy saaaarrrrr!!!\" , lang='en', tld='co.in')\n",
    "tts.speed=1.5\n",
    "tts.volume=0.9\n",
    "tts.save(\"kerala.mp3\")\n"
   ]
  },
  {
   "cell_type": "code",
   "execution_count": null,
   "id": "404dfd07",
   "metadata": {},
   "outputs": [],
   "source": [
    "pip install gtts"
   ]
  },
  {
   "cell_type": "code",
   "execution_count": 12,
   "id": "9e4e8e55",
   "metadata": {},
   "outputs": [
    {
     "name": "stdout",
     "output_type": "stream",
     "text": [
      "3.10.9 (main, Mar  1 2023, 18:23:06) [GCC 11.2.0]\n"
     ]
    }
   ],
   "source": [
    "import sys\n",
    "print(sys.version)\n"
   ]
  },
  {
   "cell_type": "code",
   "execution_count": 13,
   "id": "1520450f",
   "metadata": {},
   "outputs": [
    {
     "name": "stdout",
     "output_type": "stream",
     "text": [
      "Collecting pyttsx3\n",
      "  Downloading pyttsx3-2.98-py3-none-any.whl (34 kB)\n",
      "Installing collected packages: pyttsx3\n",
      "Successfully installed pyttsx3-2.98\n",
      "Note: you may need to restart the kernel to use updated packages.\n"
     ]
    }
   ],
   "source": [
    "pip install pyttsx3\n"
   ]
  },
  {
   "cell_type": "code",
   "execution_count": 1,
   "id": "59c0c171",
   "metadata": {},
   "outputs": [],
   "source": [
    "import pyttsx3\n",
    "\n",
    "# Initialize the text-to-speech engine\n",
    "engine = pyttsx3.init()\n",
    "\n",
    "# Set properties (optional)\n",
    "engine.setProperty('rate', 150)  # Speed of speech\n",
    "engine.setProperty('volume', 1.0)  # Volume level (0.0 to 1.0)\n",
    "\n",
    "# Speak a text\n",
    "text = \"Hello, Manish! How can I assist you today?\"\n",
    "engine.say(text)\n",
    "\n",
    "# Run and wait until speaking is finished\n",
    "engine.runAndWait()\n"
   ]
  },
  {
   "cell_type": "code",
   "execution_count": 4,
   "id": "820883db",
   "metadata": {},
   "outputs": [
    {
     "name": "stdout",
     "output_type": "stream",
     "text": [
      "Voice 0: Afrikaans - Afrikaans\n",
      "Voice 1: Amharic - Amharic\n",
      "Voice 2: Aragonese - Aragonese\n",
      "Voice 3: Arabic - Arabic\n",
      "Voice 4: Assamese - Assamese\n",
      "Voice 5: Azerbaijani - Azerbaijani\n",
      "Voice 6: Bashkir - Bashkir\n",
      "Voice 7: Bulgarian - Bulgarian\n",
      "Voice 8: Bengali - Bengali\n",
      "Voice 9: Bishnupriya Manipuri - Bishnupriya Manipuri\n",
      "Voice 10: Bosnian - Bosnian\n",
      "Voice 11: Catalan - Catalan\n",
      "Voice 12: Chinese (Mandarin) - Chinese (Mandarin)\n",
      "Voice 13: Czech - Czech\n",
      "Voice 14: Welsh - Welsh\n",
      "Voice 15: Danish - Danish\n",
      "Voice 16: German - German\n",
      "Voice 17: Greek - Greek\n",
      "Voice 18: English (Caribbean) - English (Caribbean)\n",
      "Voice 19: English (Great Britain) - English (Great Britain)\n",
      "Voice 20: English (Scotland) - English (Scotland)\n",
      "Voice 21: English (Lancaster) - English (Lancaster)\n",
      "Voice 22: English (West Midlands) - English (West Midlands)\n",
      "Voice 23: English (Received Pronunciation) - English (Received Pronunciation)\n",
      "Voice 24: English (America) - English (America)\n",
      "Voice 25: Esperanto - Esperanto\n",
      "Voice 26: Spanish (Spain) - Spanish (Spain)\n",
      "Voice 27: Spanish (Latin America) - Spanish (Latin America)\n",
      "Voice 28: Estonian - Estonian\n",
      "Voice 29: Basque - Basque\n",
      "Voice 30: Persian - Persian\n",
      "Voice 31: Persian (Pinglish) - Persian (Pinglish)\n",
      "Voice 32: Finnish - Finnish\n",
      "Voice 33: French (Belgium) - French (Belgium)\n",
      "Voice 34: French (Switzerland) - French (Switzerland)\n",
      "Voice 35: French (France) - French (France)\n",
      "Voice 36: Gaelic (Irish) - Gaelic (Irish)\n",
      "Voice 37: Gaelic (Scottish) - Gaelic (Scottish)\n",
      "Voice 38: Guarani - Guarani\n",
      "Voice 39: Greek (Ancient) - Greek (Ancient)\n",
      "Voice 40: Gujarati - Gujarati\n",
      "Voice 41: Hakka Chinese - Hakka Chinese\n",
      "Voice 42: Hindi - Hindi\n",
      "Voice 43: Croatian - Croatian\n",
      "Voice 44: Haitian Creole - Haitian Creole\n",
      "Voice 45: Hungarian - Hungarian\n",
      "Voice 46: Armenian (East Armenia) - Armenian (East Armenia)\n",
      "Voice 47: Armenian (West Armenia) - Armenian (West Armenia)\n",
      "Voice 48: Interlingua - Interlingua\n",
      "Voice 49: Indonesian - Indonesian\n",
      "Voice 50: Icelandic - Icelandic\n",
      "Voice 51: Italian - Italian\n",
      "Voice 52: Japanese - Japanese\n",
      "Voice 53: Lojban - Lojban\n",
      "Voice 54: Georgian - Georgian\n",
      "Voice 55: Kazakh - Kazakh\n",
      "Voice 56: Greenlandic - Greenlandic\n",
      "Voice 57: Kannada - Kannada\n",
      "Voice 58: Korean - Korean\n",
      "Voice 59: Konkani - Konkani\n",
      "Voice 60: Kurdish - Kurdish\n",
      "Voice 61: Kyrgyz - Kyrgyz\n",
      "Voice 62: Latin - Latin\n",
      "Voice 63: Lingua Franca Nova - Lingua Franca Nova\n",
      "Voice 64: Lithuanian - Lithuanian\n",
      "Voice 65: Latvian - Latvian\n",
      "Voice 66: Māori - Māori\n",
      "Voice 67: Macedonian - Macedonian\n",
      "Voice 68: Malayalam - Malayalam\n",
      "Voice 69: Marathi - Marathi\n",
      "Voice 70: Malay - Malay\n",
      "Voice 71: Maltese - Maltese\n",
      "Voice 72: Myanmar (Burmese) - Myanmar (Burmese)\n",
      "Voice 73: Norwegian Bokmål - Norwegian Bokmål\n",
      "Voice 74: Nahuatl (Classical) - Nahuatl (Classical)\n",
      "Voice 75: Nepali - Nepali\n",
      "Voice 76: Dutch - Dutch\n",
      "Voice 77: Oromo - Oromo\n",
      "Voice 78: Oriya - Oriya\n",
      "Voice 79: Punjabi - Punjabi\n",
      "Voice 80: Papiamento - Papiamento\n",
      "Voice 81: Polish - Polish\n",
      "Voice 82: Portuguese (Portugal) - Portuguese (Portugal)\n",
      "Voice 83: Portuguese (Brazil) - Portuguese (Brazil)\n",
      "Voice 84: Pyash - Pyash\n",
      "Voice 85: K'iche' - K'iche'\n",
      "Voice 86: Romanian - Romanian\n",
      "Voice 87: Russian - Russian\n",
      "Voice 88: Russian (Latvia) - Russian (Latvia)\n",
      "Voice 89: Sindhi - Sindhi\n",
      "Voice 90: Shan (Tai Yai) - Shan (Tai Yai)\n",
      "Voice 91: Sinhala - Sinhala\n",
      "Voice 92: Slovak - Slovak\n",
      "Voice 93: Slovenian - Slovenian\n",
      "Voice 94: Albanian - Albanian\n",
      "Voice 95: Serbian - Serbian\n",
      "Voice 96: Swedish - Swedish\n",
      "Voice 97: Swahili - Swahili\n",
      "Voice 98: Tamil - Tamil\n",
      "Voice 99: Telugu - Telugu\n",
      "Voice 100: Setswana - Setswana\n",
      "Voice 101: Turkish - Turkish\n",
      "Voice 102: Tatar - Tatar\n",
      "Voice 103: Urdu - Urdu\n",
      "Voice 104: Uzbek - Uzbek\n",
      "Voice 105: Vietnamese (Northern) - Vietnamese (Northern)\n",
      "Voice 106: Vietnamese (Central) - Vietnamese (Central)\n",
      "Voice 107: Vietnamese (Southern) - Vietnamese (Southern)\n",
      "Voice 108: Chinese (Cantonese) - Chinese (Cantonese)\n"
     ]
    }
   ],
   "source": [
    "voices = engine.getProperty('voices')  # Get available voices\n",
    "for index, voice in enumerate(voices):\n",
    "    print(f\"Voice {index}: {voice.name} - {voice.id}\")\n",
    "\n",
    "engine.setProperty('voice', voices[1].id)  # Change to a different voice\n"
   ]
  },
  {
   "cell_type": "code",
   "execution_count": 5,
   "id": "90511017",
   "metadata": {},
   "outputs": [
    {
     "name": "stderr",
     "output_type": "stream",
     "text": [
      "sh: 1: ffmpeg: not found\n",
      "sh: 1: ffmpeg: not found\n",
      "sh: 1: ffmpeg: not found\n"
     ]
    }
   ],
   "source": [
    "import pyttsx3\n",
    "\n",
    "# Initialize engine\n",
    "engine = pyttsx3.init()\n",
    "\n",
    "# Set speech rate and volume\n",
    "engine.setProperty('rate', 150)\n",
    "engine.setProperty('volume', 1.0)\n",
    "\n",
    "# Get available voices\n",
    "voices = engine.getProperty('voices')\n",
    "\n",
    "# Change voice (0 for Male, 1 for Female)\n",
    "engine.setProperty('voice', voices[1].id)  # Change index if needed\n",
    "\n",
    "# Speak text\n",
    "text = \"Hello, Manish! How can I assist you today?\"\n",
    "engine.say(text)\n",
    "\n",
    "# Save speech to a file\n",
    "engine.save_to_file(text, \"output.mp3\")\n",
    "\n",
    "# Run speech engine\n",
    "engine.runAndWait()\n"
   ]
  },
  {
   "cell_type": "code",
   "execution_count": 1,
   "id": "f6f03a6e",
   "metadata": {},
   "outputs": [
    {
     "name": "stdout",
     "output_type": "stream",
     "text": [
      "Speech saved as output.wav\n"
     ]
    },
    {
     "name": "stderr",
     "output_type": "stream",
     "text": [
      "sh: 1: ffmpeg: not found\n",
      "sh: 1: ffmpeg: not found\n"
     ]
    }
   ],
   "source": [
    "import pyttsx3\n",
    "\n",
    "engine = pyttsx3.init()\n",
    "\n",
    "# Set Malayalam Female Voice (Try different ones: malayalam+f1, f2, etc.)\n",
    "engine.setProperty('voice', 'malayalam+f2')\n",
    "\n",
    "# Adjust speech speed and volume\n",
    "engine.setProperty('rate', 150)  # Normal speed\n",
    "engine.setProperty('volume', 1.0)  # Full volume\n",
    "\n",
    "# Speak Malayalam text\n",
    "text = \"നമസ്കാരം! ഞാൻ ഒരു മലയാളം സ്ത്രീ ശബ്ദം ആണ്.\"\n",
    "engine.say(text)  # Play the speech\n",
    "\n",
    "# Save to a file\n",
    "engine.save_to_file(text, 'output.wav')  # Save as WAV file\n",
    "\n",
    "# Run the engine (to execute both say() and save_to_file())\n",
    "engine.runAndWait()\n",
    "\n",
    "print(\"Speech saved as output.wav\")\n"
   ]
  },
  {
   "cell_type": "code",
   "execution_count": 9,
   "id": "48917516",
   "metadata": {},
   "outputs": [
    {
     "name": "stdout",
     "output_type": "stream",
     "text": [
      "Requirement already satisfied: pydub in ./anaconda3/lib/python3.10/site-packages (0.25.1)\n",
      "Note: you may need to restart the kernel to use updated packages.\n"
     ]
    }
   ],
   "source": [
    "pip install pydub\n"
   ]
  },
  {
   "cell_type": "code",
   "execution_count": null,
   "id": "abeb3e66",
   "metadata": {},
   "outputs": [],
   "source": []
  }
 ],
 "metadata": {
  "kernelspec": {
   "display_name": "Python 3 (ipykernel)",
   "language": "python",
   "name": "python3"
  },
  "language_info": {
   "codemirror_mode": {
    "name": "ipython",
    "version": 3
   },
   "file_extension": ".py",
   "mimetype": "text/x-python",
   "name": "python",
   "nbconvert_exporter": "python",
   "pygments_lexer": "ipython3",
   "version": "3.10.9"
  }
 },
 "nbformat": 4,
 "nbformat_minor": 5
}
