{
 "cells": [
  {
   "cell_type": "markdown",
   "id": "1e12bc4c",
   "metadata": {},
   "source": [
    "# Load and Preprocess the JSON Data\n"
   ]
  },
  {
   "cell_type": "code",
   "execution_count": 5,
   "id": "26b88c22",
   "metadata": {},
   "outputs": [
    {
     "name": "stdout",
     "output_type": "stream",
     "text": [
      "Number of embeddings: 112\n"
     ]
    }
   ],
   "source": [
    "import json\n",
    "import numpy as np\n",
    "import faiss\n",
    "from sentence_transformers import SentenceTransformer\n",
    "\n",
    "# Load the JSON file\n",
    "with open(\"knowledgebase.json\", \"r\", encoding=\"utf-8\") as f:\n",
    "    data = json.load(f)\n",
    "\n",
    "# Initialize SBERT model\n",
    "model = SentenceTransformer(\"sentence-transformers/all-MiniLM-L6-v2\")\n",
    "\n",
    "# Prepare data for embeddings\n",
    "texts = []\n",
    "metadata = []\n",
    "\n",
    "for chapter, topics in data.items():\n",
    "    for topic_title, topic_content in topics.items():\n",
    "        # Append main topic\n",
    "        texts.append(f\"{topic_title}: {topic_content}\")\n",
    "        metadata.append({\"title\": topic_title, \"chapter\": chapter})\n",
    "\n",
    "# Convert texts to embeddings\n",
    "embeddings = model.encode(texts, convert_to_numpy=True)\n",
    "\n",
    "# Verify the number of embeddings\n",
    "print(f\"Number of embeddings: {embeddings.shape[0]}\")\n"
   ]
  },
  {
   "cell_type": "markdown",
   "id": "79967a9b",
   "metadata": {},
   "source": [
    "# Store Embeddings in FAISS"
   ]
  },
  {
   "cell_type": "code",
   "execution_count": 6,
   "id": "7ed73105",
   "metadata": {},
   "outputs": [],
   "source": [
    "# Define the FAISS index\n",
    "dimension = embeddings.shape[1]\n",
    "index = faiss.IndexFlatL2(dimension)  # L2 distance (Euclidean)\n",
    "index.add(embeddings)  # Add embeddings to index\n",
    "\n",
    "# Save FAISS index and metadata for retrieval\n",
    "faiss.write_index(index, \"textbook_faiss.index\")\n",
    "\n",
    "# Save metadata\n",
    "with open(\"metadata.json\", \"w\", encoding=\"utf-8\") as f:\n",
    "    json.dump(metadata, f, indent=4)\n"
   ]
  },
  {
   "cell_type": "markdown",
   "id": "958f6cc7",
   "metadata": {},
   "source": [
    "# Testing Retrieval"
   ]
  },
  {
   "cell_type": "code",
   "execution_count": 9,
   "id": "b2e1b621",
   "metadata": {},
   "outputs": [
    {
     "name": "stdout",
     "output_type": "stream",
     "text": [
      "{'title': '13.2.2 Right-Hand Thumb Rule', 'chapter': '13 CHAPTER', 'score': 0.9642046}\n",
      "{'title': 'name', 'chapter': '7 CHAPTER', 'score': 1.54195}\n",
      "{'title': '13.4 ELECTRIC MOTOR', 'chapter': '13 CHAPTER', 'score': 1.5689719}\n"
     ]
    }
   ],
   "source": [
    "def search(query, top_k=3):\n",
    "    query_embedding = model.encode([query], convert_to_numpy=True)\n",
    "    distances, indices = index.search(query_embedding, top_k)\n",
    "\n",
    "    results = []\n",
    "    for i in range(len(indices[0])):\n",
    "        idx = indices[0][i]\n",
    "        results.append({\n",
    "            \"title\": metadata[idx][\"title\"],  # Topic title\n",
    "            \"chapter\": metadata[idx][\"chapter\"],  # Chapter name\n",
    "            \"score\": distances[0][i]\n",
    "        })\n",
    "\n",
    "    return results\n",
    "\n",
    "# Example query\n",
    "query = \"Right-Hand Thumb Rule\"\n",
    "results = search(query)\n",
    "\n",
    "for res in results:\n",
    "    print(res)\n"
   ]
  },
  {
   "cell_type": "code",
   "execution_count": 17,
   "id": "517d9378",
   "metadata": {},
   "outputs": [
    {
     "name": "stdout",
     "output_type": "stream",
     "text": [
      "Explanation:  A convenient way of finding the direction of magnetic field associated with a current-carrying conductor is given in Fig. 13.7. Variable resistance (a) (b) Figure 13.6 (a) A pattern of concentric circles indicating the field lines of a magnetic field around a straight conducting wire. The arrows in the circles show the direction of the field lines. (b) A close up of the pattern obtained. Magnetic Effects of Electric Current 121 ©KTBS Not to be republished Imagine that you are holding a current-carrying straight conductor in your right hand such that the thumb points towards the direction of current. Then your fingers will wrap around the conductor in the direction of the field lines of the magnetic field, as shown in Fig. 13.7. This is known as the right-hand thumb rule*. Figure 13.7 Right-hand thumb rule 1. Example 13.1 A current through a horizontal power line flows in east to west direction. What is the direction of magnetic field at a point directly below it and at a point directly above it? Solution Solution Solution The current is in the east-west direction. Applying the right-hand thumb rule, we get that the magnetic field (at any point below or above the wire) turns clockwise in a plane perpendicular to the wire, when viewed from the east end, and anti-clockwise, when viewed from the west end\n"
     ]
    }
   ],
   "source": [
    "import json\n",
    "\n",
    "# Load full knowledge base (JSON textbook)\n",
    "with open(\"knowledgebase.json\", \"r\", encoding=\"utf-8\") as f:\n",
    "    data = json.load(f)\n",
    "\n",
    "def get_explanation(query, top_k=1):\n",
    "    results = search(query, top_k)\n",
    "    \n",
    "    if not results:\n",
    "        return \"No relevant information found.\"\n",
    "    \n",
    "    best_match = results[0]  # Get the top-ranked result\n",
    "    best_title = best_match[\"title\"]\n",
    "    best_chapter = best_match[\"chapter\"]\n",
    "\n",
    "    # Search JSON structure for the matching content\n",
    "    if best_chapter in data:\n",
    "        for topic_title, topic_content in data[best_chapter].items():\n",
    "            if topic_title == best_title:\n",
    "                return topic_content  # Return the matching topic's content\n",
    "\n",
    "    return \"No relevant information found.\"\n",
    "\n",
    "# Test the function\n",
    "query = \"Right-Hand Thumb Rule\"\n",
    "explanation = get_explanation(query)\n",
    "print(\"Explanation:\", explanation)\n"
   ]
  },
  {
   "cell_type": "code",
   "execution_count": null,
   "id": "3f35cad1",
   "metadata": {},
   "outputs": [],
   "source": [
    "            \"13.2.2 Right-Hand Thumb Rule\":\" A convenient way of finding the direction of magnetic field associated with a current-carrying conductor is given in Fig. 13.7. Variable resistance (a) (b) Figure 13.6 (a) A pattern of concentric circles indicating the field lines of a magnetic field around a straight conducting wire. The arrows in the circles show the direction of the field lines. (b) A close up of the pattern obtained. Magnetic Effects of Electric Current 121 ©KTBS Not to be republished Imagine that you are holding a current-carrying straight conductor in your right hand such that the thumb points towards the direction of current. Then your fingers will wrap around the conductor in the direction of the field lines of the magnetic field, as shown in Fig. 13.7. This is known as the right-hand thumb rule*. Figure 13.7 Right-hand thumb rule 1. Example 13.1 A current through a horizontal power line flows in east to west direction. What is the direction of magnetic field at a point directly below it and at a point directly above it? Solution Solution Solution The current is in the east-west direction. Applying the right-hand thumb rule, we get that the magnetic field (at any point below or above the wire) turns clockwise in a plane perpendicular to the wire, when viewed from the east end, and anti-clockwise, when viewed from the west end\",\n"
   ]
  }
 ],
 "metadata": {
  "kernelspec": {
   "display_name": "Python 3 (ipykernel)",
   "language": "python",
   "name": "python3"
  },
  "language_info": {
   "codemirror_mode": {
    "name": "ipython",
    "version": 3
   },
   "file_extension": ".py",
   "mimetype": "text/x-python",
   "name": "python",
   "nbconvert_exporter": "python",
   "pygments_lexer": "ipython3",
   "version": "3.10.14"
  }
 },
 "nbformat": 4,
 "nbformat_minor": 5
}
